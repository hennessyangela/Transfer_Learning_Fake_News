{
 "cells": [
  {
   "cell_type": "markdown",
   "id": "4e2863b1",
   "metadata": {},
   "source": [
    "### Imports"
   ]
  },
  {
   "cell_type": "code",
   "execution_count": null,
   "id": "44f2e315",
   "metadata": {},
   "outputs": [],
   "source": [
    "\n",
    "import numpy as np \n",
    "import pandas as pd\n",
    "import seaborn as sns\n",
    "import matplotlib.pyplot as plt\n",
    "import plotly.express as px\n",
    "import plotly.graph_objects as go \n",
    "import warnings\n",
    "warnings.filterwarnings('ignore')\n",
    "import string\n",
    "string.punctuation\n",
    "import re\n",
    "import nltk\n",
    "from nltk.stem.porter import PorterStemmer\n",
    "from nltk.stem import WordNetLemmatizer\n",
    "from sklearn.feature_extraction.text import CountVectorizer\n",
    "from sklearn.model_selection import train_test_split\n",
    "from sklearn.metrics import confusion_matrix\n",
    "from sklearn.feature_extraction.text import TfidfVectorizer\n",
    "from sklearn.model_selection import train_test_split\n",
    "import matplotlib.pyplot as plt\n",
    "from sklearn.metrics import ConfusionMatrixDisplay\n",
    "from sklearn.metrics import confusion_matrix\n",
    "from sklearn.metrics import classification_report\n",
    "from sklearn.naive_bayes import GaussianNB\n",
    "import pickle"
   ]
  },
  {
   "cell_type": "markdown",
   "id": "090f7fa0",
   "metadata": {},
   "source": [
    "### Read in phishing email data set\n",
    "\n",
    "https://raw.githubusercontent.com/IBM/nlc-email-phishing/master/data/Email-trainingdata-20k.csv"
   ]
  },
  {
   "cell_type": "code",
   "execution_count": null,
   "id": "4c693f89",
   "metadata": {},
   "outputs": [],
   "source": [
    "phishing_data=pd.read_csv('phishing_email_data_set.csv',encoding = \"ISO-8859-1\")\n",
    "phishing_data.reset_index(drop=True)\n",
    "#rename label column\n",
    "phishing_data.columns=['email', 'label']\n",
    "phishing_data.head()\n"
   ]
  },
  {
   "cell_type": "markdown",
   "id": "68a672cd",
   "metadata": {},
   "source": [
    "#### see how many samples we have of each class?"
   ]
  },
  {
   "cell_type": "code",
   "execution_count": null,
   "id": "5d86c9e6",
   "metadata": {},
   "outputs": [],
   "source": [
    "phishing_data.groupby('label').count()"
   ]
  },
  {
   "cell_type": "markdown",
   "id": "bfc9cdd1",
   "metadata": {},
   "source": [
    "##### phishing_data"
   ]
  },
  {
   "cell_type": "code",
   "execution_count": null,
   "id": "3b5d0c1a",
   "metadata": {},
   "outputs": [],
   "source": [
    "y=list(phishing_data['label'])\n",
    "X=list(phishing_data['email'])\n",
    "num_samples=len(y)\n",
    "print(phishing_data)\n",
    "X=X[:num_samples]\n",
    "y=y[:num_samples]"
   ]
  },
  {
   "cell_type": "markdown",
   "id": "1327006b",
   "metadata": {},
   "source": [
    "#### Use tf-idf vectorizer to get word counts"
   ]
  },
  {
   "cell_type": "code",
   "execution_count": null,
   "id": "b48d6e93",
   "metadata": {},
   "outputs": [],
   "source": [
    "vectorizer = TfidfVectorizer()\n",
    "X_tfidf = vectorizer.fit_transform(X)"
   ]
  },
  {
   "cell_type": "markdown",
   "id": "0d453ccd",
   "metadata": {},
   "source": [
    "#### Read in model trained on fake and real news stories"
   ]
  },
  {
   "cell_type": "code",
   "execution_count": null,
   "id": "86beb095",
   "metadata": {},
   "outputs": [],
   "source": [
    "with open('fake_news_model.pkl','rb') as f:\n",
    "    model = pickle.load(f)\n",
    "model"
   ]
  },
  {
   "cell_type": "code",
   "execution_count": null,
   "id": "8d6bc09e",
   "metadata": {},
   "outputs": [],
   "source": [
    "predictions = model.predict(X_tfidf.toarray())\n",
    "predictions"
   ]
  },
  {
   "cell_type": "code",
   "execution_count": null,
   "id": "70597111",
   "metadata": {},
   "outputs": [],
   "source": []
  }
 ],
 "metadata": {
  "kernelspec": {
   "display_name": "Python 3 (ipykernel)",
   "language": "python",
   "name": "python3"
  },
  "language_info": {
   "codemirror_mode": {
    "name": "ipython",
    "version": 3
   },
   "file_extension": ".py",
   "mimetype": "text/x-python",
   "name": "python",
   "nbconvert_exporter": "python",
   "pygments_lexer": "ipython3",
   "version": "3.11.3"
  }
 },
 "nbformat": 4,
 "nbformat_minor": 5
}
